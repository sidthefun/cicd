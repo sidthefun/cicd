{
 "cells": [
  {
   "cell_type": "code",
   "execution_count": 1,
   "metadata": {},
   "outputs": [
    {
     "name": "stdout",
     "output_type": "stream",
     "text": [
      "Value contain\n"
     ]
    }
   ],
   "source": [
    "ne_dictionary = {12:\"OLiva\",17:\"Marry\",16:\"Gilchrist\"}\n",
    "\n",
    "key = 12\n",
    "\n",
    "if ne_dictionary.get(key) == None:\n",
    "    print('Value not contain')\n",
    "else:\n",
    "    print('Value contain') "
   ]
  },
  {
   "cell_type": "code",
   "execution_count": 2,
   "metadata": {},
   "outputs": [
    {
     "name": "stdout",
     "output_type": "stream",
     "text": [
      "True\n"
     ]
    }
   ],
   "source": [
    "you_dict = {\"o\":[1,14,2,],\"m\":[10,74,90],\"n\":[23,47,86]}\n",
    "\n",
    "print([10,74,90] in you_dict.values())"
   ]
  },
  {
   "cell_type": "markdown",
   "metadata": {},
   "source": [
    "stud_dict= {\"Oliver\":943,\"potter\":178,\"hemsworth\":36}\n",
    "se_ne_key = 'George'\n",
    "\n",
    "if stud_dict.get(se_ne_key) == None:\n",
    "    print('Key not exist')\n",
    "else:\n",
    "    print('Key exist') "
   ]
  },
  {
   "cell_type": "code",
   "execution_count": 7,
   "metadata": {},
   "outputs": [
    {
     "name": "stdout",
     "output_type": "stream",
     "text": [
      "Absolute value of integer is: 94\n",
      "**********************************************\n",
      "False\n"
     ]
    }
   ],
   "source": [
    "var = -94\n",
    "print('Absolute value of integer is:', abs(var))\n",
    "print(\"**********************************************\")\n",
    "l = [1,-3,0,2,4]\n",
    "print(all(ele > 0 for ele in l))"
   ]
  },
  {
   "cell_type": "code",
   "execution_count": 9,
   "metadata": {},
   "outputs": [
    {
     "name": "stdout",
     "output_type": "stream",
     "text": [
      "The filtered letters are:\n",
      "e\n",
      "e\n",
      "i\n",
      "o\n"
     ]
    }
   ],
   "source": [
    "# function that filters vowels\n",
    "def fun(variable):\n",
    "\tletters = ['a', 'e', 'i', 'o', 'u']\n",
    "\tif (variable in letters):\n",
    "\t\treturn True\n",
    "\telse:\n",
    "\t\treturn False\n",
    "\n",
    "\n",
    "# sequence\n",
    "sequence = ['g', 'e', 'e', 'j', 'k', 's', 'p', 'r','i','o']\n",
    "\n",
    "# using filter function\n",
    "filtered = filter(fun, sequence)\n",
    "\n",
    "print('The filtered letters are:')\n",
    "for s in filtered:\n",
    "\tprint(s)\n"
   ]
  },
  {
   "cell_type": "code",
   "execution_count": 12,
   "metadata": {},
   "outputs": [
    {
     "name": "stdout",
     "output_type": "stream",
     "text": [
      "My name is Sagar and I am 26 years \t\t\t\t\told. 26 is my favorite \t\t\t\t\tnumber.\n",
      "GeeksforGeeks, A computer science portal for geeks.\n",
      "This article is written in Python\n",
      "Hello, I am 18 years old !\n"
     ]
    }
   ],
   "source": [
    "#String Format\n",
    "\n",
    "name = \"Sagar\"\n",
    "age = 26\n",
    "message = \"My name is {0} and I am {1} years \\\n",
    "\t\t\t\t\told. {1} is my favorite \\\n",
    "\t\t\t\t\tnumber.\".format(name, age)\n",
    "print(message)\n",
    "\n",
    "#...............\n",
    "# using format option in a simple string\n",
    "print(\"{}, A computer science portal for geeks.\"\n",
    "\t.format(\"GeeksforGeeks\"))\n",
    "\n",
    "# using format option for a\n",
    "# value stored in a variable\n",
    "str = \"This article is written in {}\"\n",
    "print(str.format(\"Python\"))\n",
    "\n",
    "# formatting a string using a numeric constant\n",
    "print(\"Hello, I am {} years old !\".format(18))\n"
   ]
  },
  {
   "cell_type": "code",
   "execution_count": 18,
   "metadata": {},
   "outputs": [
    {
     "name": "stdout",
     "output_type": "stream",
     "text": [
      "[0, 0, 1, 1, 2] [1, 4, 5, 6, 7]\n",
      "[0, 1, 2, 3, 4]\n"
     ]
    }
   ],
   "source": [
    "test_list = [1, 4, 5, 6, 7]\n",
    "print([i//2 for i in range(len(test_list))],test_list)\n",
    "print([i for i in range(len(test_list))])"
   ]
  },
  {
   "cell_type": "code",
   "execution_count": 19,
   "metadata": {},
   "outputs": [
    {
     "name": "stdout",
     "output_type": "stream",
     "text": [
      "Test a:1234 b:5678\n"
     ]
    }
   ],
   "source": [
    "#abstract Class\n",
    "class Test:\n",
    "    def __init__(self, a, b):\n",
    "        self.a = a\n",
    "        self.b = b\n",
    "  \n",
    "    def __repr__(self):\n",
    "        return \"Test a:%s b:%s\" % (self.a, self.b)\n",
    "  \n",
    "# Driver Code        \n",
    "t = Test(1234, 5678)\n",
    "print(t)"
   ]
  },
  {
   "cell_type": "code",
   "execution_count": 23,
   "metadata": {},
   "outputs": [
    {
     "name": "stdout",
     "output_type": "stream",
     "text": [
      "File example.txt created successfully.\n",
      "Hello, world!\n",
      "\n",
      "Text appended to file example.txt successfully.\n",
      "Hello, world!\n",
      "This is some additional text.\n",
      "\n",
      "File example.txt renamed to new_example.txt successfully.\n",
      "Hello, world!\n",
      "This is some additional text.\n",
      "\n",
      "File new_example.txt deleted successfully.\n"
     ]
    }
   ],
   "source": [
    "import os\n",
    "\n",
    "def create_file(filename):\n",
    "\ttry:\n",
    "\t\twith open(filename, 'w') as f:\n",
    "\t\t\tf.write('Hello, world!\\n')\n",
    "\t\tprint(\"File \" + filename + \" created successfully.\")\n",
    "\texcept IOError:\n",
    "\t\tprint(\"Error: could not create file \" + filename)\n",
    "\n",
    "def read_file(filename):\n",
    "\ttry:\n",
    "\t\twith open(filename, 'r') as f:\n",
    "\t\t\tcontents = f.read()\n",
    "\t\t\tprint(contents)\n",
    "\texcept IOError:\n",
    "\t\tprint(\"Error: could not read file \" + filename)\n",
    "\n",
    "def append_file(filename, text):\n",
    "\ttry:\n",
    "\t\twith open(filename, 'a') as f:\n",
    "\t\t\tf.write(text)\n",
    "\t\tprint(\"Text appended to file \" + filename + \" successfully.\")\n",
    "\texcept IOError:\n",
    "\t\tprint(\"Error: could not append to file \" + filename)\n",
    "\n",
    "def rename_file(filename, new_filename):\n",
    "\ttry:\n",
    "\t\tos.rename(filename, new_filename)\n",
    "\t\tprint(\"File \" + filename + \" renamed to \" + new_filename + \" successfully.\")\n",
    "\texcept IOError:\n",
    "\t\tprint(\"Error: could not rename file \" + filename)\n",
    "\n",
    "def delete_file(filename):\n",
    "\ttry:\n",
    "\t\tos.remove(filename)\n",
    "\t\tprint(\"File \" + filename + \" deleted successfully.\")\n",
    "\texcept IOError:\n",
    "\t\tprint(\"Error: could not delete file \" + filename)\n",
    "\n",
    "\n",
    "if __name__ == '__main__':\n",
    "\tfilename = \"example.txt\"\n",
    "\tnew_filename = \"new_example.txt\"\n",
    "\n",
    "\tcreate_file(filename)\n",
    "\tread_file(filename)\n",
    "\tappend_file(filename, \"This is some additional text.\\n\")\n",
    "\tread_file(filename)\n",
    "\trename_file(filename, new_filename)\n",
    "\tread_file(new_filename)\n",
    "\tdelete_file(new_filename)\n"
   ]
  },
  {
   "cell_type": "code",
   "execution_count": 2,
   "metadata": {},
   "outputs": [
    {
     "name": "stdout",
     "output_type": "stream",
     "text": [
      "There are many types of birds.\n",
      "Most of the birds can fly but some cannot.\n",
      "There are many types of birds.\n",
      "Sparrows can fly.\n",
      "There are many types of birds.\n",
      "Ostriches cannot fly.\n"
     ]
    }
   ],
   "source": [
    "class Bird:\n",
    "    \n",
    "\tdef intro(self):\n",
    "\t\tprint(\"There are many types of birds.\")\n",
    "\n",
    "\tdef flight(self):\n",
    "\t\tprint(\"Most of the birds can fly but some cannot.\")\n",
    "\n",
    "class sparrow(Bird):\n",
    "\n",
    "\tdef flight(self):\n",
    "\t\tprint(\"Sparrows can fly.\")\n",
    "\n",
    "class ostrich(Bird):\n",
    "\n",
    "\tdef flight(self):\n",
    "\t\tprint(\"Ostriches cannot fly.\")\n",
    "\n",
    "obj_bird = Bird()\n",
    "obj_spr = sparrow()\n",
    "obj_ost = ostrich()\n",
    "\n",
    "obj_bird.intro()\n",
    "obj_bird.flight()\n",
    "\n",
    "obj_spr.intro()\n",
    "obj_spr.flight()\n",
    "\n",
    "obj_ost.intro()\n",
    "obj_ost.flight()\n"
   ]
  },
  {
   "cell_type": "code",
   "execution_count": 16,
   "metadata": {},
   "outputs": [
    {
     "name": "stdout",
     "output_type": "stream",
     "text": [
      "[1.23, 'Studytonight', 3, 2, 1]\n"
     ]
    }
   ],
   "source": [
    "my_first_list = [1,2,3, 'Studytonight', 1.23]\n",
    "\n",
    "#my_first_list[::-1]\n",
    "\n",
    "dir(my_first_list)\n",
    "\n",
    "my_first_list.reverse()\n",
    "\n",
    "print(my_first_list)\n"
   ]
  },
  {
   "cell_type": "code",
   "execution_count": 20,
   "metadata": {},
   "outputs": [
    {
     "data": {
      "text/plain": [
       "'i live in bangalore'"
      ]
     },
     "execution_count": 20,
     "metadata": {},
     "output_type": "execute_result"
    }
   ],
   "source": [
    "my_first_list = [\"i\", \"live\", \"in\", \"bangalore\"]\n",
    "\n",
    "\" \".join(my_first_list)"
   ]
  },
  {
   "cell_type": "code",
   "execution_count": 27,
   "metadata": {},
   "outputs": [
    {
     "data": {
      "text/plain": [
       "['india', 'us', 'aus', 'uk']"
      ]
     },
     "execution_count": 27,
     "metadata": {},
     "output_type": "execute_result"
    }
   ],
   "source": [
    "my_text = \"india,us,aus,uk\"\n",
    "\n",
    "my_text.split(\",\")\n"
   ]
  },
  {
   "cell_type": "code",
   "execution_count": 37,
   "metadata": {},
   "outputs": [
    {
     "name": "stdout",
     "output_type": "stream",
     "text": [
      "[1, 2, 4, 6, 7, 8, 9]\n"
     ]
    }
   ],
   "source": [
    "my_list = [7,6,4,8,9,1,2]\n",
    "\n",
    "#lis1=sorted(my_list)\n",
    "\n",
    "my_list.sort()\n",
    "\n",
    "print(my_list)\n",
    "\n"
   ]
  },
  {
   "cell_type": "code",
   "execution_count": 45,
   "metadata": {},
   "outputs": [
    {
     "name": "stdout",
     "output_type": "stream",
     "text": [
      "[14, 12, 8, 16, 18, 2, 4]\n"
     ]
    }
   ],
   "source": [
    "my_list = [7,6,4,8,9,1,2]\n",
    "\n",
    "my_list= [i*2 for i in  my_list]\n",
    "\n",
    "print(my_list)\n",
    "\n",
    "\n",
    "my_list.clear()\n",
    "\n",
    "        \n",
    "\n"
   ]
  },
  {
   "cell_type": "code",
   "execution_count": 46,
   "metadata": {},
   "outputs": [
    {
     "data": {
      "text/plain": [
       "[]"
      ]
     },
     "execution_count": 46,
     "metadata": {},
     "output_type": "execute_result"
    }
   ],
   "source": [
    "my_list"
   ]
  },
  {
   "cell_type": "code",
   "execution_count": 47,
   "metadata": {},
   "outputs": [
    {
     "data": {
      "text/plain": [
       "5"
      ]
     },
     "execution_count": 47,
     "metadata": {},
     "output_type": "execute_result"
    }
   ],
   "source": [
    "my_list = [7,2,4,2,9,1,2,3,2,5,2]\n",
    "\n",
    "my_list.count(2)"
   ]
  },
  {
   "cell_type": "code",
   "execution_count": 73,
   "metadata": {},
   "outputs": [
    {
     "name": "stdout",
     "output_type": "stream",
     "text": [
      "[7, 4, 8, 4, 9, 1, 4, 3, 4, 5, 4]\n"
     ]
    }
   ],
   "source": [
    "my_list = [7,2,4,2,9,1,2,3,2,5,2]\n",
    "\n",
    "my_list= [i*2 if i%2==0 else i for i in my_list]\n",
    "print(my_list)"
   ]
  },
  {
   "cell_type": "code",
   "execution_count": 52,
   "metadata": {},
   "outputs": [
    {
     "name": "stdout",
     "output_type": "stream",
     "text": [
      "152\n"
     ]
    }
   ],
   "source": [
    "import sys\n",
    "size = sys.getsizeof(my_list)\n",
    "print(size)"
   ]
  },
  {
   "cell_type": "code",
   "execution_count": 54,
   "metadata": {},
   "outputs": [
    {
     "name": "stdout",
     "output_type": "stream",
     "text": [
      "64\n"
     ]
    }
   ],
   "source": [
    "\n",
    "tup=(1,3,4,)\n",
    "\n",
    "size = sys.getsizeof(tup)\n",
    "\n",
    "print(size)"
   ]
  },
  {
   "cell_type": "code",
   "execution_count": 59,
   "metadata": {},
   "outputs": [
    {
     "name": "stdout",
     "output_type": "stream",
     "text": [
      "216\n"
     ]
    }
   ],
   "source": [
    "\n",
    "st=set((1,2,3))\n",
    "size = sys.getsizeof(st)\n",
    "\n",
    "print(size)\n",
    "\n"
   ]
  },
  {
   "cell_type": "code",
   "execution_count": 76,
   "metadata": {},
   "outputs": [],
   "source": [
    "my_dict = {'a': 1, 'b': 2, 'c': 3}\n",
    "\n",
    "del my_dict['a']\n",
    "\n",
    "\n"
   ]
  },
  {
   "cell_type": "code",
   "execution_count": null,
   "metadata": {},
   "outputs": [],
   "source": [
    "from pyspark import SparkSession\n",
    "\n",
    "sc.sparkContext\n",
    "\n",
    "\n",
    "df =spark.read(pathof the file).load()\n"
   ]
  }
 ],
 "metadata": {
  "kernelspec": {
   "display_name": "Python 3",
   "language": "python",
   "name": "python3"
  },
  "language_info": {
   "codemirror_mode": {
    "name": "ipython",
    "version": 3
   },
   "file_extension": ".py",
   "mimetype": "text/x-python",
   "name": "python",
   "nbconvert_exporter": "python",
   "pygments_lexer": "ipython3",
   "version": "3.9.13"
  },
  "orig_nbformat": 4
 },
 "nbformat": 4,
 "nbformat_minor": 2
}
