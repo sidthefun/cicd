{
 "cells": [
  {
   "cell_type": "code",
   "execution_count": 1,
   "metadata": {},
   "outputs": [
    {
     "name": "stdout",
     "output_type": "stream",
     "text": [
      "Value contain\n"
     ]
    }
   ],
   "source": [
    "ne_dictionary = {12:\"OLiva\",17:\"Marry\",16:\"Gilchrist\"}\n",
    "\n",
    "key = 12\n",
    "\n",
    "if ne_dictionary.get(key) == None:\n",
    "    print('Value not contain')\n",
    "else:\n",
    "    print('Value contain') "
   ]
  },
  {
   "cell_type": "code",
   "execution_count": 2,
   "metadata": {},
   "outputs": [
    {
     "name": "stdout",
     "output_type": "stream",
     "text": [
      "True\n"
     ]
    }
   ],
   "source": [
    "you_dict = {\"o\":[1,14,2,],\"m\":[10,74,90],\"n\":[23,47,86]}\n",
    "\n",
    "print([10,74,90] in you_dict.values())"
   ]
  },
  {
   "cell_type": "markdown",
   "metadata": {},
   "source": [
    "stud_dict= {\"Oliver\":943,\"potter\":178,\"hemsworth\":36}\n",
    "se_ne_key = 'George'\n",
    "\n",
    "if stud_dict.get(se_ne_key) == None:\n",
    "    print('Key not exist')\n",
    "else:\n",
    "    print('Key exist') "
   ]
  },
  {
   "cell_type": "code",
   "execution_count": 7,
   "metadata": {},
   "outputs": [
    {
     "name": "stdout",
     "output_type": "stream",
     "text": [
      "Absolute value of integer is: 94\n",
      "**********************************************\n",
      "False\n"
     ]
    }
   ],
   "source": [
    "var = -94\n",
    "print('Absolute value of integer is:', abs(var))\n",
    "print(\"**********************************************\")\n",
    "l = [1,-3,0,2,4]\n",
    "print(all(ele > 0 for ele in l))"
   ]
  },
  {
   "cell_type": "code",
   "execution_count": 9,
   "metadata": {},
   "outputs": [
    {
     "name": "stdout",
     "output_type": "stream",
     "text": [
      "The filtered letters are:\n",
      "e\n",
      "e\n",
      "i\n",
      "o\n"
     ]
    }
   ],
   "source": [
    "# function that filters vowels\n",
    "def fun(variable):\n",
    "\tletters = ['a', 'e', 'i', 'o', 'u']\n",
    "\tif (variable in letters):\n",
    "\t\treturn True\n",
    "\telse:\n",
    "\t\treturn False\n",
    "\n",
    "\n",
    "# sequence\n",
    "sequence = ['g', 'e', 'e', 'j', 'k', 's', 'p', 'r','i','o']\n",
    "\n",
    "# using filter function\n",
    "filtered = filter(fun, sequence)\n",
    "\n",
    "print('The filtered letters are:')\n",
    "for s in filtered:\n",
    "\tprint(s)\n"
   ]
  },
  {
   "cell_type": "code",
   "execution_count": 12,
   "metadata": {},
   "outputs": [
    {
     "name": "stdout",
     "output_type": "stream",
     "text": [
      "My name is Sagar and I am 26 years \t\t\t\t\told. 26 is my favorite \t\t\t\t\tnumber.\n",
      "GeeksforGeeks, A computer science portal for geeks.\n",
      "This article is written in Python\n",
      "Hello, I am 18 years old !\n"
     ]
    }
   ],
   "source": [
    "#String Format\n",
    "\n",
    "name = \"Sagar\"\n",
    "age = 26\n",
    "message = \"My name is {0} and I am {1} years \\\n",
    "\t\t\t\t\told. {1} is my favorite \\\n",
    "\t\t\t\t\tnumber.\".format(name, age)\n",
    "print(message)\n",
    "\n",
    "#...............\n",
    "# using format option in a simple string\n",
    "print(\"{}, A computer science portal for geeks.\"\n",
    "\t.format(\"GeeksforGeeks\"))\n",
    "\n",
    "# using format option for a\n",
    "# value stored in a variable\n",
    "str = \"This article is written in {}\"\n",
    "print(str.format(\"Python\"))\n",
    "\n",
    "# formatting a string using a numeric constant\n",
    "print(\"Hello, I am {} years old !\".format(18))\n"
   ]
  },
  {
   "cell_type": "code",
   "execution_count": null,
   "metadata": {},
   "outputs": [],
   "source": []
  }
 ],
 "metadata": {
  "kernelspec": {
   "display_name": "Python 3",
   "language": "python",
   "name": "python3"
  },
  "language_info": {
   "codemirror_mode": {
    "name": "ipython",
    "version": 3
   },
   "file_extension": ".py",
   "mimetype": "text/x-python",
   "name": "python",
   "nbconvert_exporter": "python",
   "pygments_lexer": "ipython3",
   "version": "3.9.13"
  },
  "orig_nbformat": 4
 },
 "nbformat": 4,
 "nbformat_minor": 2
}
